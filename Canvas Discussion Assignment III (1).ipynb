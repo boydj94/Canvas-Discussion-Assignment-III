{
 "cells": [
  {
   "cell_type": "markdown",
   "metadata": {},
   "source": [
    "#        Testing the Influence of Penalty Term Modification on Support Vector Classification"
   ]
  },
  {
   "cell_type": "markdown",
   "metadata": {},
   "source": [
    "    Step 1: imports and magic commands\n",
    "   "
   ]
  },
  {
   "cell_type": "code",
   "execution_count": 3,
   "metadata": {},
   "outputs": [],
   "source": [
    "import numpy as np\n",
    "import pandas as pd\n",
    "import matplotlib.pyplot as plt\n",
    "from my_measures import BinaryClassificationPerformance\n",
    "from sklearn.feature_extraction.text import HashingVectorizer\n",
    "from sklearn.feature_extraction.text import TfidfTransformer\n",
    "from scipy.sparse import csr_matrix, hstack\n",
    "from sklearn.preprocessing import StandardScaler\n",
    "from sklearn.model_selection import train_test_split\n",
    "from sklearn.feature_extraction.text import CountVectorizer\n",
    "from sklearn.pipeline import Pipeline\n",
    "%matplotlib inline"
   ]
  },
  {
   "cell_type": "markdown",
   "metadata": {},
   "source": [
    "        Step 2: Binary Classifier"
   ]
  },
  {
   "cell_type": "code",
   "execution_count": 4,
   "metadata": {},
   "outputs": [
    {
     "name": "stdout",
     "output_type": "stream",
     "text": [
      "Help on class BinaryClassificationPerformance in module my_measures:\n",
      "\n",
      "class BinaryClassificationPerformance(builtins.object)\n",
      " |  BinaryClassificationPerformance(predictions, labels, desc, probabilities=None)\n",
      " |  \n",
      " |  Performance measures to evaluate the fit of a binary classification model, v1.02\n",
      " |  \n",
      " |  Methods defined here:\n",
      " |  \n",
      " |  __init__(self, predictions, labels, desc, probabilities=None)\n",
      " |      Initialize attributes: predictions-vector of predicted values for Y, labels-vector of labels for Y\n",
      " |  \n",
      " |  compute_measures(self)\n",
      " |      Compute performance measures defined by Flach p. 57\n",
      " |  \n",
      " |  img_indices(self)\n",
      " |      Get the indices of true and false positives to be able to locate the corresponding images in a list of image names\n",
      " |  \n",
      " |  ----------------------------------------------------------------------\n",
      " |  Data descriptors defined here:\n",
      " |  \n",
      " |  __dict__\n",
      " |      dictionary for instance variables (if defined)\n",
      " |  \n",
      " |  __weakref__\n",
      " |      list of weak references to the object (if defined)\n",
      "\n"
     ]
    }
   ],
   "source": [
    "help(BinaryClassificationPerformance)"
   ]
  },
  {
   "cell_type": "markdown",
   "metadata": {},
   "source": [
    "        Step 3: Parametric Specification for Feature Extraction"
   ]
  },
  {
   "cell_type": "code",
   "execution_count": 5,
   "metadata": {},
   "outputs": [],
   "source": [
    "# function that takes raw data and completes all preprocessing required before model fits\n",
    "def process_raw_data(fn, my_random_seed, test=False):\n",
    "    # read and summarize data\n",
    "    movie_data = pd.read_csv(fn, sep='\\t')\n",
    "    print(\"movie_data is:\", type(movie_data))\n",
    "    print(\"movie_data has\", movie_data.shape[0], \"rows and\", movie_data.shape[1], \"columns\", \"\\n\")\n",
    "    print(\"the data types for each of the columns in movie_data:\")\n",
    "    print(movie_data.dtypes, \"\\n\")\n",
    "    print(\"the first 10 rows in movie_data:\")\n",
    "    print(movie_data.head(5))\n",
    "    if (not test):\n",
    "        print(\"The rate of 'good' movie reviews in the dataset: \")\n",
    "        print(movie_data['sentiment'].mean())\n",
    "\n",
    "    # vectorize Bag of Words from review text; as sparse matrix\n",
    "    if (not test): # fit_transform()\n",
    "        hv = HashingVectorizer(n_features=2 ** 17, alternate_sign=False)\n",
    "        X_hv = hv.fit_transform(movie_data.review)\n",
    "        fitted_transformations.append(hv)\n",
    "        print(\"Shape of HashingVectorizer X:\")\n",
    "        print(X_hv.shape)\n",
    "    else: # transform() \n",
    "        X_hv = fitted_transformations[0].transform(movie_data.review)\n",
    "        print(\"Shape of HashingVectorizer X:\")\n",
    "        print(X_hv.shape)\n",
    "    \n",
    "    # http://scikit-learn.org/stable/modules/generated/sklearn.feature_extraction.text.TfidfTransformer.html\n",
    "    if (not test):\n",
    "        transformer = TfidfTransformer()\n",
    "        X_tfidf = transformer.fit_transform(X_hv)\n",
    "        fitted_transformations.append(transformer)\n",
    "    else:\n",
    "        X_tfidf = fitted_transformations[1].transform(X_hv)\n",
    "    \n",
    "    # create additional quantitative features\n",
    "    # features from Amazon.csv to add to feature set\n",
    "    movie_data['word_count'] = movie_data['review'].str.split(' ').str.len()\n",
    "    movie_data['punc_count'] = movie_data['review'].str.count(\"\\.\")\n",
    "\n",
    "    X_quant_features = movie_data[[\"word_count\", \"punc_count\"]]\n",
    "    print(\"Look at a few rows of the new quantitative features: \")\n",
    "    print(X_quant_features.head(10))\n",
    "    \n",
    "    # Combine all quantitative features into a single sparse matrix\n",
    "    X_quant_features_csr = csr_matrix(X_quant_features)\n",
    "    X_combined = hstack([X_tfidf, X_quant_features_csr])\n",
    "    X_matrix = csr_matrix(X_combined) # convert to sparse matrix\n",
    "    print(\"Size of combined bag of words and new quantitative variables matrix:\")\n",
    "    print(X_matrix.shape)\n",
    "    \n",
    "    # Create `X`, scaled matrix of features\n",
    "    # feature scaling\n",
    "    if (not test):\n",
    "        sc = StandardScaler(with_mean=False)\n",
    "        X = sc.fit_transform(X_matrix)\n",
    "        fitted_transformations.append(sc)\n",
    "        print(X.shape)\n",
    "        y = movie_data['sentiment']\n",
    "    else:\n",
    "        X = fitted_transformations[2].transform(X_matrix)\n",
    "        print(X.shape)\n",
    "    \n",
    "    # Create Training and Test Sets\n",
    "    # enter an integer for the random_state parameter; any integer will work\n",
    "    if (test):\n",
    "        X_submission_test = X\n",
    "        print(\"Shape of X_test for submission:\")\n",
    "        print(X_submission_test.shape)\n",
    "        print('SUCCESS!')\n",
    "        return(movie_data, X_submission_test)\n",
    "    else: \n",
    "        X_train, X_test, y_train, y_test, X_raw_train, X_raw_test = train_test_split(X, y, movie_data, test_size=0.2, random_state=my_random_seed)\n",
    "        print(\"Shape of X_train and X_test:\")\n",
    "        print(X_train.shape)\n",
    "        print(X_test.shape)\n",
    "        print(\"Shape of y_train and y_test:\")\n",
    "        print(y_train.shape)\n",
    "        print(y_test.shape)\n",
    "        print(\"Shape of X_raw_train and X_raw_test:\")\n",
    "        print(X_raw_train.shape)\n",
    "        print(X_raw_test.shape)\n",
    "        print('SUCCESS!')\n",
    "        return(X_train, X_test, y_train, y_test, X_raw_train, X_raw_test)"
   ]
  },
  {
   "cell_type": "markdown",
   "metadata": {},
   "source": [
    "        Step 4: Training and Test Datasets for Movie Reviews (we set the value of our random seed to 20)\n"
   ]
  },
  {
   "cell_type": "code",
   "execution_count": 6,
   "metadata": {},
   "outputs": [
    {
     "name": "stdout",
     "output_type": "stream",
     "text": [
      "movie_data is: <class 'pandas.core.frame.DataFrame'>\n",
      "movie_data has 25000 rows and 3 columns \n",
      "\n",
      "the data types for each of the columns in movie_data:\n",
      "id           object\n",
      "sentiment     int64\n",
      "review       object\n",
      "dtype: object \n",
      "\n",
      "the first 10 rows in movie_data:\n",
      "       id  sentiment                                             review\n",
      "0  5814_8          1  With all this stuff going down at the moment w...\n",
      "1  2381_9          1  \\The Classic War of the Worlds\\\" by Timothy Hi...\n",
      "2  7759_3          0  The film starts with a manager (Nicholas Bell)...\n",
      "3  3630_4          0  It must be assumed that those who praised this...\n",
      "4  9495_8          1  Superbly trashy and wondrously unpretentious 8...\n",
      "The rate of 'good' movie reviews in the dataset: \n",
      "0.5\n",
      "Shape of HashingVectorizer X:\n",
      "(25000, 131072)\n",
      "Look at a few rows of the new quantitative features: \n",
      "   word_count  punc_count\n",
      "0         433          20\n",
      "1         158          16\n",
      "2         378          20\n",
      "3         379           8\n",
      "4         367           9\n",
      "5          89           5\n",
      "6         112           9\n",
      "7         132           9\n",
      "8         163           7\n",
      "9          43           5\n",
      "Size of combined bag of words and new quantitative variables matrix:\n",
      "(25000, 131074)\n",
      "(25000, 131074)\n",
      "Shape of X_train and X_test:\n",
      "(20000, 131074)\n",
      "(5000, 131074)\n",
      "Shape of y_train and y_test:\n",
      "(20000,)\n",
      "(5000,)\n",
      "Shape of X_raw_train and X_raw_test:\n",
      "(20000, 5)\n",
      "(5000, 5)\n",
      "SUCCESS!\n",
      "Number of fits stored in `fitted_transformations` list: \n",
      "3\n"
     ]
    }
   ],
   "source": [
    "# create an empty list to store any use of fit_transform() to transform() later\n",
    "# it is a global list to store model and feature extraction fits\n",
    "fitted_transformations = []\n",
    "\n",
    "# CHANGE FILE PATH and my_random_seed number (any integer other than 74 will do): \n",
    "X_train, X_test, y_train, y_test, X_raw_train, X_raw_test = process_raw_data(fn='/Users/jamesboyd/Desktop/moviereviews_train.tsv', my_random_seed=20)\n",
    "\n",
    "print(\"Number of fits stored in `fitted_transformations` list: \")\n",
    "print(len(fitted_transformations))"
   ]
  },
  {
   "cell_type": "markdown",
   "metadata": {},
   "source": [
    "    Next, we perform 28 trials with different penalty terms \"C\", ranging from 0.00000000001 to 100. We sequence our trials by penalty value magnitude, beginning with 0.00000000001. Our trials assess the performance of our Support Vector Classifier for both the train and test data. "
   ]
  },
  {
   "cell_type": "code",
   "execution_count": 25,
   "metadata": {},
   "outputs": [
    {
     "name": "stdout",
     "output_type": "stream",
     "text": [
      "{'Pos': 10021, 'Neg': 9979, 'TP': 8685, 'TN': 9765, 'FP': 214, 'FN': 1336, 'Accuracy': 0.9225, 'Precision': 0.9759523541971008, 'Recall': 0.8666799720586768, 'desc': 'svc_train'}\n"
     ]
    }
   ],
   "source": [
    "from sklearn import svm\n",
    "svc = svm.LinearSVC(C=0.00000000001)\n",
    "svc.fit(X_train, y_train)\n",
    "\n",
    "svc_performance_train = BinaryClassificationPerformance(svc.predict(X_train), y_train, 'svc_train')\n",
    "svc_performance_train.compute_measures()\n",
    "print(svc_performance_train.performance_measures)"
   ]
  },
  {
   "cell_type": "code",
   "execution_count": 24,
   "metadata": {},
   "outputs": [
    {
     "name": "stdout",
     "output_type": "stream",
     "text": [
      "{'Pos': 2479, 'Neg': 2521, 'TP': 1889, 'TN': 2332, 'FP': 189, 'FN': 590, 'Accuracy': 0.8442, 'Precision': 0.9090471607314725, 'Recall': 0.7620008067769262, 'desc': 'svc_test'}\n"
     ]
    }
   ],
   "source": [
    "svc_test = BinaryClassificationPerformance(svc.predict(X_test), y_test, 'svc_test')\n",
    "svc_test.compute_measures()\n",
    "print(svc_test.performance_measures)"
   ]
  },
  {
   "cell_type": "code",
   "execution_count": 26,
   "metadata": {},
   "outputs": [
    {
     "name": "stdout",
     "output_type": "stream",
     "text": [
      "{'Pos': 10021, 'Neg': 9979, 'TP': 8685, 'TN': 9764, 'FP': 215, 'FN': 1336, 'Accuracy': 0.92245, 'Precision': 0.9758426966292135, 'Recall': 0.8666799720586768, 'desc': 'svc_train'}\n"
     ]
    }
   ],
   "source": [
    "from sklearn import svm\n",
    "svc = svm.LinearSVC(C=0.0000000001)\n",
    "svc.fit(X_train, y_train)\n",
    "\n",
    "svc_performance_train = BinaryClassificationPerformance(svc.predict(X_train), y_train, 'svc_train')\n",
    "svc_performance_train.compute_measures()\n",
    "print(svc_performance_train.performance_measures)"
   ]
  },
  {
   "cell_type": "code",
   "execution_count": 27,
   "metadata": {},
   "outputs": [
    {
     "name": "stdout",
     "output_type": "stream",
     "text": [
      "{'Pos': 2479, 'Neg': 2521, 'TP': 1889, 'TN': 2332, 'FP': 189, 'FN': 590, 'Accuracy': 0.8442, 'Precision': 0.9090471607314725, 'Recall': 0.7620008067769262, 'desc': 'svc_test'}\n"
     ]
    }
   ],
   "source": [
    "svc_test = BinaryClassificationPerformance(svc.predict(X_test), y_test, 'svc_test')\n",
    "svc_test.compute_measures()\n",
    "print(svc_test.performance_measures)"
   ]
  },
  {
   "cell_type": "code",
   "execution_count": 34,
   "metadata": {},
   "outputs": [
    {
     "name": "stdout",
     "output_type": "stream",
     "text": [
      "{'Pos': 10021, 'Neg': 9979, 'TP': 8686, 'TN': 9764, 'FP': 215, 'FN': 1335, 'Accuracy': 0.9225, 'Precision': 0.9758454106280193, 'Recall': 0.8667797624987527, 'desc': 'svc_train'}\n"
     ]
    }
   ],
   "source": [
    "from sklearn import svm\n",
    "svc = svm.LinearSVC(C=0.000000001)\n",
    "svc.fit(X_train, y_train)\n",
    "\n",
    "svc_performance_train = BinaryClassificationPerformance(svc.predict(X_train), y_train, 'svc_train')\n",
    "svc_performance_train.compute_measures()\n",
    "print(svc_performance_train.performance_measures)"
   ]
  },
  {
   "cell_type": "code",
   "execution_count": 36,
   "metadata": {},
   "outputs": [
    {
     "name": "stdout",
     "output_type": "stream",
     "text": [
      "{'Pos': 2479, 'Neg': 2521, 'TP': 1892, 'TN': 2332, 'FP': 189, 'FN': 587, 'Accuracy': 0.8448, 'Precision': 0.9091782796732341, 'Recall': 0.763210972166196, 'desc': 'svc_test'}\n"
     ]
    }
   ],
   "source": [
    "svc_test = BinaryClassificationPerformance(svc.predict(X_test), y_test, 'svc_test')\n",
    "svc_test.compute_measures()\n",
    "print(svc_test.performance_measures)"
   ]
  },
  {
   "cell_type": "code",
   "execution_count": 37,
   "metadata": {},
   "outputs": [
    {
     "name": "stdout",
     "output_type": "stream",
     "text": [
      "{'Pos': 10021, 'Neg': 9979, 'TP': 8718, 'TN': 9755, 'FP': 224, 'FN': 1303, 'Accuracy': 0.92365, 'Precision': 0.9749496756877656, 'Recall': 0.8699730565811795, 'desc': 'svc_train'}\n"
     ]
    }
   ],
   "source": [
    "from sklearn import svm\n",
    "svc = svm.LinearSVC(C=0.00000001)\n",
    "svc.fit(X_train, y_train)\n",
    "\n",
    "svc_performance_train = BinaryClassificationPerformance(svc.predict(X_train), y_train, 'svc_train')\n",
    "svc_performance_train.compute_measures()\n",
    "print(svc_performance_train.performance_measures)"
   ]
  },
  {
   "cell_type": "code",
   "execution_count": 38,
   "metadata": {},
   "outputs": [
    {
     "name": "stdout",
     "output_type": "stream",
     "text": [
      "{'Pos': 2479, 'Neg': 2521, 'TP': 1908, 'TN': 2324, 'FP': 197, 'FN': 571, 'Accuracy': 0.8464, 'Precision': 0.9064133016627078, 'Recall': 0.7696651875756353, 'desc': 'svc_test'}\n"
     ]
    }
   ],
   "source": [
    "svc_test = BinaryClassificationPerformance(svc.predict(X_test), y_test, 'svc_test')\n",
    "svc_test.compute_measures()\n",
    "print(svc_test.performance_measures)"
   ]
  },
  {
   "cell_type": "code",
   "execution_count": 55,
   "metadata": {},
   "outputs": [
    {
     "name": "stdout",
     "output_type": "stream",
     "text": [
      "{'Pos': 10021, 'Neg': 9979, 'TP': 8793, 'TN': 9738, 'FP': 241, 'FN': 1228, 'Accuracy': 0.92655, 'Precision': 0.9733230019924729, 'Recall': 0.8774573395868676, 'desc': 'svc_train'}\n"
     ]
    }
   ],
   "source": [
    "from sklearn import svm\n",
    "svc = svm.LinearSVC(C=0.00000003)\n",
    "svc.fit(X_train, y_train)\n",
    "\n",
    "svc_performance_train = BinaryClassificationPerformance(svc.predict(X_train), y_train, 'svc_train')\n",
    "svc_performance_train.compute_measures()\n",
    "print(svc_performance_train.performance_measures)"
   ]
  },
  {
   "cell_type": "code",
   "execution_count": 56,
   "metadata": {},
   "outputs": [
    {
     "name": "stdout",
     "output_type": "stream",
     "text": [
      "{'Pos': 2479, 'Neg': 2521, 'TP': 1925, 'TN': 2312, 'FP': 209, 'FN': 554, 'Accuracy': 0.8474, 'Precision': 0.9020618556701031, 'Recall': 0.7765227914481646, 'desc': 'svc_test'}\n"
     ]
    }
   ],
   "source": [
    "svc_test = BinaryClassificationPerformance(svc.predict(X_test), y_test, 'svc_test')\n",
    "svc_test.compute_measures()\n",
    "print(svc_test.performance_measures)"
   ]
  },
  {
   "cell_type": "code",
   "execution_count": 61,
   "metadata": {},
   "outputs": [
    {
     "name": "stdout",
     "output_type": "stream",
     "text": [
      "{'Pos': 10021, 'Neg': 9979, 'TP': 8856, 'TN': 9731, 'FP': 248, 'FN': 1165, 'Accuracy': 0.92935, 'Precision': 0.9727592267135325, 'Recall': 0.8837441373116456, 'desc': 'svc_train'}\n"
     ]
    }
   ],
   "source": [
    "from sklearn import svm\n",
    "svc = svm.LinearSVC(C=0.00000005)\n",
    "svc.fit(X_train, y_train)\n",
    "\n",
    "svc_performance_train = BinaryClassificationPerformance(svc.predict(X_train), y_train, 'svc_train')\n",
    "svc_performance_train.compute_measures()\n",
    "print(svc_performance_train.performance_measures)"
   ]
  },
  {
   "cell_type": "code",
   "execution_count": 62,
   "metadata": {},
   "outputs": [
    {
     "name": "stdout",
     "output_type": "stream",
     "text": [
      "{'Pos': 2479, 'Neg': 2521, 'TP': 1945, 'TN': 2298, 'FP': 223, 'FN': 534, 'Accuracy': 0.8486, 'Precision': 0.897140221402214, 'Recall': 0.7845905607099637, 'desc': 'svc_test'}\n"
     ]
    }
   ],
   "source": [
    "svc_test = BinaryClassificationPerformance(svc.predict(X_test), y_test, 'svc_test')\n",
    "svc_test.compute_measures()\n",
    "print(svc_test.performance_measures)"
   ]
  },
  {
   "cell_type": "code",
   "execution_count": 67,
   "metadata": {},
   "outputs": [
    {
     "name": "stdout",
     "output_type": "stream",
     "text": [
      "{'Pos': 10021, 'Neg': 9979, 'TP': 8878, 'TN': 9722, 'FP': 257, 'FN': 1143, 'Accuracy': 0.93, 'Precision': 0.9718664477285167, 'Recall': 0.885939526993314, 'desc': 'svc_train'}\n"
     ]
    }
   ],
   "source": [
    "from sklearn import svm\n",
    "svc = svm.LinearSVC(C=0.00000006)\n",
    "svc.fit(X_train, y_train)\n",
    "\n",
    "svc_performance_train = BinaryClassificationPerformance(svc.predict(X_train), y_train, 'svc_train')\n",
    "svc_performance_train.compute_measures()\n",
    "print(svc_performance_train.performance_measures)"
   ]
  },
  {
   "cell_type": "code",
   "execution_count": 68,
   "metadata": {},
   "outputs": [
    {
     "name": "stdout",
     "output_type": "stream",
     "text": [
      "{'Pos': 2479, 'Neg': 2521, 'TP': 1952, 'TN': 2295, 'FP': 226, 'FN': 527, 'Accuracy': 0.8494, 'Precision': 0.8962350780532599, 'Recall': 0.7874142799515934, 'desc': 'svc_test'}\n"
     ]
    }
   ],
   "source": [
    "svc_test = BinaryClassificationPerformance(svc.predict(X_test), y_test, 'svc_test')\n",
    "svc_test.compute_measures()\n",
    "print(svc_test.performance_measures)"
   ]
  },
  {
   "cell_type": "code",
   "execution_count": 59,
   "metadata": {},
   "outputs": [
    {
     "name": "stdout",
     "output_type": "stream",
     "text": [
      "{'Pos': 10021, 'Neg': 9979, 'TP': 8904, 'TN': 9719, 'FP': 260, 'FN': 1117, 'Accuracy': 0.93115, 'Precision': 0.9716281099956351, 'Recall': 0.8885340784352859, 'desc': 'svc_train'}\n"
     ]
    }
   ],
   "source": [
    "from sklearn import svm\n",
    "svc = svm.LinearSVC(C=0.00000007)\n",
    "svc.fit(X_train, y_train)\n",
    "\n",
    "svc_performance_train = BinaryClassificationPerformance(svc.predict(X_train), y_train, 'svc_train')\n",
    "svc_performance_train.compute_measures()\n",
    "print(svc_performance_train.performance_measures)"
   ]
  },
  {
   "cell_type": "code",
   "execution_count": 60,
   "metadata": {},
   "outputs": [
    {
     "name": "stdout",
     "output_type": "stream",
     "text": [
      "{'Pos': 2479, 'Neg': 2521, 'TP': 1966, 'TN': 2291, 'FP': 230, 'FN': 513, 'Accuracy': 0.8514, 'Precision': 0.895264116575592, 'Recall': 0.7930617184348527, 'desc': 'svc_test'}\n"
     ]
    }
   ],
   "source": [
    "svc_test = BinaryClassificationPerformance(svc.predict(X_test), y_test, 'svc_test')\n",
    "svc_test.compute_measures()\n",
    "print(svc_test.performance_measures)"
   ]
  },
  {
   "cell_type": "code",
   "execution_count": 39,
   "metadata": {},
   "outputs": [
    {
     "name": "stdout",
     "output_type": "stream",
     "text": [
      "{'Pos': 10021, 'Neg': 9979, 'TP': 8986, 'TN': 9715, 'FP': 264, 'FN': 1035, 'Accuracy': 0.93505, 'Precision': 0.9714594594594594, 'Recall': 0.8967168945215048, 'desc': 'svc_train'}\n"
     ]
    }
   ],
   "source": [
    "from sklearn import svm\n",
    "svc = svm.LinearSVC(C=0.0000001)\n",
    "svc.fit(X_train, y_train)\n",
    "\n",
    "svc_performance_train = BinaryClassificationPerformance(svc.predict(X_train), y_train, 'svc_train')\n",
    "svc_performance_train.compute_measures()\n",
    "print(svc_performance_train.performance_measures)"
   ]
  },
  {
   "cell_type": "code",
   "execution_count": 40,
   "metadata": {},
   "outputs": [
    {
     "name": "stdout",
     "output_type": "stream",
     "text": [
      "{'Pos': 2479, 'Neg': 2521, 'TP': 1977, 'TN': 2276, 'FP': 245, 'FN': 502, 'Accuracy': 0.8506, 'Precision': 0.8897389738973898, 'Recall': 0.7974989915288423, 'desc': 'svc_test'}\n"
     ]
    }
   ],
   "source": [
    "svc_test = BinaryClassificationPerformance(svc.predict(X_test), y_test, 'svc_test')\n",
    "svc_test.compute_measures()\n",
    "print(svc_test.performance_measures)"
   ]
  },
  {
   "cell_type": "code",
   "execution_count": 65,
   "metadata": {},
   "outputs": [
    {
     "name": "stdout",
     "output_type": "stream",
     "text": [
      "{'Pos': 10021, 'Neg': 9979, 'TP': 9225, 'TN': 9699, 'FP': 280, 'FN': 796, 'Accuracy': 0.9462, 'Precision': 0.970541820094687, 'Recall': 0.9205668096996308, 'desc': 'svc_train'}\n"
     ]
    }
   ],
   "source": [
    "from sklearn import svm\n",
    "svc = svm.LinearSVC(C=0.0000003)\n",
    "svc.fit(X_train, y_train)\n",
    "\n",
    "svc_performance_train = BinaryClassificationPerformance(svc.predict(X_train), y_train, 'svc_train')\n",
    "svc_performance_train.compute_measures()\n",
    "print(svc_performance_train.performance_measures)"
   ]
  },
  {
   "cell_type": "code",
   "execution_count": 66,
   "metadata": {},
   "outputs": [
    {
     "name": "stdout",
     "output_type": "stream",
     "text": [
      "{'Pos': 2479, 'Neg': 2521, 'TP': 2058, 'TN': 2235, 'FP': 286, 'FN': 421, 'Accuracy': 0.8586, 'Precision': 0.8779863481228669, 'Recall': 0.8301734570391287, 'desc': 'svc_test'}\n"
     ]
    }
   ],
   "source": [
    "svc_test = BinaryClassificationPerformance(svc.predict(X_test), y_test, 'svc_test')\n",
    "svc_test.compute_measures()\n",
    "print(svc_test.performance_measures)"
   ]
  },
  {
   "cell_type": "code",
   "execution_count": 63,
   "metadata": {},
   "outputs": [
    {
     "name": "stdout",
     "output_type": "stream",
     "text": [
      "{'Pos': 10021, 'Neg': 9979, 'TP': 9359, 'TN': 9711, 'FP': 268, 'FN': 662, 'Accuracy': 0.9535, 'Precision': 0.972161628752467, 'Recall': 0.9339387286697934, 'desc': 'svc_train'}\n"
     ]
    }
   ],
   "source": [
    "from sklearn import svm\n",
    "svc = svm.LinearSVC(C=0.0000005)\n",
    "svc.fit(X_train, y_train)\n",
    "\n",
    "svc_performance_train = BinaryClassificationPerformance(svc.predict(X_train), y_train, 'svc_train')\n",
    "svc_performance_train.compute_measures()\n",
    "print(svc_performance_train.performance_measures)"
   ]
  },
  {
   "cell_type": "code",
   "execution_count": 64,
   "metadata": {},
   "outputs": [
    {
     "name": "stdout",
     "output_type": "stream",
     "text": [
      "{'Pos': 2479, 'Neg': 2521, 'TP': 2095, 'TN': 2216, 'FP': 305, 'FN': 384, 'Accuracy': 0.8622, 'Precision': 0.8729166666666667, 'Recall': 0.845098830173457, 'desc': 'svc_test'}\n"
     ]
    }
   ],
   "source": [
    "svc_test = BinaryClassificationPerformance(svc.predict(X_test), y_test, 'svc_test')\n",
    "svc_test.compute_measures()\n",
    "print(svc_test.performance_measures)"
   ]
  },
  {
   "cell_type": "code",
   "execution_count": 71,
   "metadata": {},
   "outputs": [
    {
     "name": "stdout",
     "output_type": "stream",
     "text": [
      "{'Pos': 10021, 'Neg': 9979, 'TP': 9408, 'TN': 9724, 'FP': 255, 'FN': 613, 'Accuracy': 0.9566, 'Precision': 0.9736106799130705, 'Recall': 0.9388284602335096, 'desc': 'svc_train'}\n"
     ]
    }
   ],
   "source": [
    "from sklearn import svm\n",
    "svc = svm.LinearSVC(C=0.0000006)\n",
    "svc.fit(X_train, y_train)\n",
    "\n",
    "svc_performance_train = BinaryClassificationPerformance(svc.predict(X_train), y_train, 'svc_train')\n",
    "svc_performance_train.compute_measures()\n",
    "print(svc_performance_train.performance_measures)"
   ]
  },
  {
   "cell_type": "code",
   "execution_count": 72,
   "metadata": {},
   "outputs": [
    {
     "name": "stdout",
     "output_type": "stream",
     "text": [
      "{'Pos': 2479, 'Neg': 2521, 'TP': 2109, 'TN': 2212, 'FP': 309, 'FN': 370, 'Accuracy': 0.8642, 'Precision': 0.8722084367245657, 'Recall': 0.8507462686567164, 'desc': 'svc_test'}\n"
     ]
    }
   ],
   "source": [
    "svc_test = BinaryClassificationPerformance(svc.predict(X_test), y_test, 'svc_test')\n",
    "svc_test.compute_measures()\n",
    "print(svc_test.performance_measures)"
   ]
  },
  {
   "cell_type": "code",
   "execution_count": 69,
   "metadata": {},
   "outputs": [
    {
     "name": "stdout",
     "output_type": "stream",
     "text": [
      "{'Pos': 10021, 'Neg': 9979, 'TP': 9447, 'TN': 9730, 'FP': 249, 'FN': 574, 'Accuracy': 0.95885, 'Precision': 0.974319306930693, 'Recall': 0.9427202873964674, 'desc': 'svc_train'}\n"
     ]
    }
   ],
   "source": [
    "from sklearn import svm\n",
    "svc = svm.LinearSVC(C=0.0000007)\n",
    "svc.fit(X_train, y_train)\n",
    "\n",
    "svc_performance_train = BinaryClassificationPerformance(svc.predict(X_train), y_train, 'svc_train')\n",
    "svc_performance_train.compute_measures()\n",
    "print(svc_performance_train.performance_measures)"
   ]
  },
  {
   "cell_type": "code",
   "execution_count": 70,
   "metadata": {},
   "outputs": [
    {
     "name": "stdout",
     "output_type": "stream",
     "text": [
      "{'Pos': 2479, 'Neg': 2521, 'TP': 2112, 'TN': 2210, 'FP': 311, 'FN': 367, 'Accuracy': 0.8644, 'Precision': 0.8716467189434586, 'Recall': 0.8519564340459863, 'desc': 'svc_test'}\n"
     ]
    }
   ],
   "source": [
    "svc_test = BinaryClassificationPerformance(svc.predict(X_test), y_test, 'svc_test')\n",
    "svc_test.compute_measures()\n",
    "print(svc_test.performance_measures)"
   ]
  },
  {
   "cell_type": "code",
   "execution_count": 73,
   "metadata": {},
   "outputs": [
    {
     "name": "stdout",
     "output_type": "stream",
     "text": [
      "{'Pos': 10021, 'Neg': 9979, 'TP': 9473, 'TN': 9737, 'FP': 242, 'FN': 548, 'Accuracy': 0.9605, 'Precision': 0.9750900669068451, 'Recall': 0.9453148388384393, 'desc': 'svc_train'}\n"
     ]
    }
   ],
   "source": [
    "from sklearn import svm\n",
    "svc = svm.LinearSVC(C=0.0000008)\n",
    "svc.fit(X_train, y_train)\n",
    "\n",
    "svc_performance_train = BinaryClassificationPerformance(svc.predict(X_train), y_train, 'svc_train')\n",
    "svc_performance_train.compute_measures()\n",
    "print(svc_performance_train.performance_measures)"
   ]
  },
  {
   "cell_type": "code",
   "execution_count": 74,
   "metadata": {},
   "outputs": [
    {
     "name": "stdout",
     "output_type": "stream",
     "text": [
      "{'Pos': 2479, 'Neg': 2521, 'TP': 2125, 'TN': 2208, 'FP': 313, 'FN': 354, 'Accuracy': 0.8666, 'Precision': 0.8716160787530763, 'Recall': 0.8572004840661557, 'desc': 'svc_test'}\n"
     ]
    }
   ],
   "source": [
    "svc_test = BinaryClassificationPerformance(svc.predict(X_test), y_test, 'svc_test')\n",
    "svc_test.compute_measures()\n",
    "print(svc_test.performance_measures)"
   ]
  },
  {
   "cell_type": "code",
   "execution_count": 41,
   "metadata": {},
   "outputs": [
    {
     "name": "stdout",
     "output_type": "stream",
     "text": [
      "{'Pos': 10021, 'Neg': 9979, 'TP': 9542, 'TN': 9752, 'FP': 227, 'FN': 479, 'Accuracy': 0.9647, 'Precision': 0.9767632306274951, 'Recall': 0.9522003792036723, 'desc': 'svc_train'}\n"
     ]
    }
   ],
   "source": [
    "from sklearn import svm\n",
    "svc = svm.LinearSVC(C=0.000001)\n",
    "svc.fit(X_train, y_train)\n",
    "\n",
    "svc_performance_train = BinaryClassificationPerformance(svc.predict(X_train), y_train, 'svc_train')\n",
    "svc_performance_train.compute_measures()\n",
    "print(svc_performance_train.performance_measures)"
   ]
  },
  {
   "cell_type": "code",
   "execution_count": 42,
   "metadata": {},
   "outputs": [
    {
     "name": "stdout",
     "output_type": "stream",
     "text": [
      "{'Pos': 2479, 'Neg': 2521, 'TP': 2139, 'TN': 2208, 'FP': 313, 'FN': 340, 'Accuracy': 0.8694, 'Precision': 0.8723491027732463, 'Recall': 0.8628479225494151, 'desc': 'svc_test'}\n"
     ]
    }
   ],
   "source": [
    "svc_test = BinaryClassificationPerformance(svc.predict(X_test), y_test, 'svc_test')\n",
    "svc_test.compute_measures()\n",
    "print(svc_test.performance_measures)"
   ]
  },
  {
   "cell_type": "code",
   "execution_count": 75,
   "metadata": {},
   "outputs": [
    {
     "name": "stdout",
     "output_type": "stream",
     "text": [
      "{'Pos': 10021, 'Neg': 9979, 'TP': 9702, 'TN': 9822, 'FP': 157, 'FN': 319, 'Accuracy': 0.9762, 'Precision': 0.9840754640430064, 'Recall': 0.9681668496158068, 'desc': 'svc_train'}\n"
     ]
    }
   ],
   "source": [
    "from sklearn import svm\n",
    "svc = svm.LinearSVC(C=0.000002)\n",
    "svc.fit(X_train, y_train)\n",
    "\n",
    "svc_performance_train = BinaryClassificationPerformance(svc.predict(X_train), y_train, 'svc_train')\n",
    "svc_performance_train.compute_measures()\n",
    "print(svc_performance_train.performance_measures)"
   ]
  },
  {
   "cell_type": "code",
   "execution_count": 76,
   "metadata": {},
   "outputs": [
    {
     "name": "stdout",
     "output_type": "stream",
     "text": [
      "{'Pos': 2479, 'Neg': 2521, 'TP': 2186, 'TN': 2202, 'FP': 319, 'FN': 293, 'Accuracy': 0.8776, 'Precision': 0.8726546906187624, 'Recall': 0.881807180314643, 'desc': 'svc_test'}\n"
     ]
    }
   ],
   "source": [
    "svc_test = BinaryClassificationPerformance(svc.predict(X_test), y_test, 'svc_test')\n",
    "svc_test.compute_measures()\n",
    "print(svc_test.performance_measures)"
   ]
  },
  {
   "cell_type": "code",
   "execution_count": 53,
   "metadata": {},
   "outputs": [
    {
     "name": "stdout",
     "output_type": "stream",
     "text": [
      "{'Pos': 10021, 'Neg': 9979, 'TP': 9787, 'TN': 9858, 'FP': 121, 'FN': 234, 'Accuracy': 0.98225, 'Precision': 0.9877876463463867, 'Recall': 0.9766490370222533, 'desc': 'svc_train'}\n"
     ]
    }
   ],
   "source": [
    "from sklearn import svm\n",
    "svc = svm.LinearSVC(C=0.000003)\n",
    "svc.fit(X_train, y_train)\n",
    "\n",
    "svc_performance_train = BinaryClassificationPerformance(svc.predict(X_train), y_train, 'svc_train')\n",
    "svc_performance_train.compute_measures()\n",
    "print(svc_performance_train.performance_measures)"
   ]
  },
  {
   "cell_type": "code",
   "execution_count": 54,
   "metadata": {},
   "outputs": [
    {
     "name": "stdout",
     "output_type": "stream",
     "text": [
      "{'Pos': 2479, 'Neg': 2521, 'TP': 2199, 'TN': 2212, 'FP': 309, 'FN': 280, 'Accuracy': 0.8822, 'Precision': 0.8767942583732058, 'Recall': 0.8870512303348125, 'desc': 'svc_test'}\n"
     ]
    }
   ],
   "source": [
    "svc_test = BinaryClassificationPerformance(svc.predict(X_test), y_test, 'svc_test')\n",
    "svc_test.compute_measures()\n",
    "print(svc_test.performance_measures)"
   ]
  },
  {
   "cell_type": "code",
   "execution_count": 79,
   "metadata": {},
   "outputs": [
    {
     "name": "stdout",
     "output_type": "stream",
     "text": [
      "{'Pos': 10021, 'Neg': 9979, 'TP': 9891, 'TN': 9898, 'FP': 81, 'FN': 130, 'Accuracy': 0.98945, 'Precision': 0.9918772563176895, 'Recall': 0.9870272427901408, 'desc': 'svc_train'}\n"
     ]
    }
   ],
   "source": [
    "from sklearn import svm\n",
    "svc = svm.LinearSVC(C=0.000005)\n",
    "svc.fit(X_train, y_train)\n",
    "\n",
    "svc_performance_train = BinaryClassificationPerformance(svc.predict(X_train), y_train, 'svc_train')\n",
    "svc_performance_train.compute_measures()\n",
    "print(svc_performance_train.performance_measures)"
   ]
  },
  {
   "cell_type": "code",
   "execution_count": 80,
   "metadata": {},
   "outputs": [
    {
     "name": "stdout",
     "output_type": "stream",
     "text": [
      "{'Pos': 2479, 'Neg': 2521, 'TP': 2219, 'TN': 2207, 'FP': 314, 'FN': 260, 'Accuracy': 0.8852, 'Precision': 0.8760363205684959, 'Recall': 0.8951189995966116, 'desc': 'svc_test'}\n"
     ]
    }
   ],
   "source": [
    "svc_test = BinaryClassificationPerformance(svc.predict(X_test), y_test, 'svc_test')\n",
    "svc_test.compute_measures()\n",
    "print(svc_test.performance_measures)"
   ]
  },
  {
   "cell_type": "code",
   "execution_count": 77,
   "metadata": {},
   "outputs": [
    {
     "name": "stdout",
     "output_type": "stream",
     "text": [
      "{'Pos': 10021, 'Neg': 9979, 'TP': 9927, 'TN': 9917, 'FP': 62, 'FN': 94, 'Accuracy': 0.9922, 'Precision': 0.9937931724897388, 'Recall': 0.990619698632871, 'desc': 'svc_train'}\n"
     ]
    }
   ],
   "source": [
    "from sklearn import svm\n",
    "svc = svm.LinearSVC(C=0.000007)\n",
    "svc.fit(X_train, y_train)\n",
    "\n",
    "svc_performance_train = BinaryClassificationPerformance(svc.predict(X_train), y_train, 'svc_train')\n",
    "svc_performance_train.compute_measures()\n",
    "print(svc_performance_train.performance_measures)\n"
   ]
  },
  {
   "cell_type": "code",
   "execution_count": 78,
   "metadata": {},
   "outputs": [
    {
     "name": "stdout",
     "output_type": "stream",
     "text": [
      "{'Pos': 2479, 'Neg': 2521, 'TP': 2225, 'TN': 2214, 'FP': 307, 'FN': 254, 'Accuracy': 0.8878, 'Precision': 0.8787519747235387, 'Recall': 0.8975393303751513, 'desc': 'svc_test'}\n"
     ]
    }
   ],
   "source": [
    "svc_test = BinaryClassificationPerformance(svc.predict(X_test), y_test, 'svc_test')\n",
    "svc_test.compute_measures()\n",
    "print(svc_test.performance_measures)"
   ]
  },
  {
   "cell_type": "code",
   "execution_count": 43,
   "metadata": {},
   "outputs": [
    {
     "name": "stdout",
     "output_type": "stream",
     "text": [
      "{'Pos': 10021, 'Neg': 9979, 'TP': 9957, 'TN': 9942, 'FP': 37, 'FN': 64, 'Accuracy': 0.99495, 'Precision': 0.9962977786672004, 'Recall': 0.9936134118351462, 'desc': 'svc_train'}\n"
     ]
    }
   ],
   "source": [
    "from sklearn import svm\n",
    "svc = svm.LinearSVC(C=0.00001)\n",
    "svc.fit(X_train, y_train)\n",
    "\n",
    "svc_performance_train = BinaryClassificationPerformance(svc.predict(X_train), y_train, 'svc_train')\n",
    "svc_performance_train.compute_measures()\n",
    "print(svc_performance_train.performance_measures)"
   ]
  },
  {
   "cell_type": "code",
   "execution_count": 44,
   "metadata": {},
   "outputs": [
    {
     "name": "stdout",
     "output_type": "stream",
     "text": [
      "{'Pos': 2479, 'Neg': 2521, 'TP': 2218, 'TN': 2216, 'FP': 305, 'FN': 261, 'Accuracy': 0.8868, 'Precision': 0.8791121680539041, 'Recall': 0.8947156111335216, 'desc': 'svc_test'}\n"
     ]
    }
   ],
   "source": [
    "svc_test = BinaryClassificationPerformance(svc.predict(X_test), y_test, 'svc_test')\n",
    "svc_test.compute_measures()\n",
    "print(svc_test.performance_measures)"
   ]
  },
  {
   "cell_type": "code",
   "execution_count": 45,
   "metadata": {},
   "outputs": [
    {
     "name": "stdout",
     "output_type": "stream",
     "text": [
      "{'Pos': 10021, 'Neg': 9979, 'TP': 10021, 'TN': 9979, 'FP': 0, 'FN': 0, 'Accuracy': 1.0, 'Precision': 1.0, 'Recall': 1.0, 'desc': 'svc_train'}\n"
     ]
    }
   ],
   "source": [
    "from sklearn import svm\n",
    "svc = svm.LinearSVC(C=0.0001)\n",
    "svc.fit(X_train, y_train)\n",
    "\n",
    "svc_performance_train = BinaryClassificationPerformance(svc.predict(X_train), y_train, 'svc_train')\n",
    "svc_performance_train.compute_measures()\n",
    "print(svc_performance_train.performance_measures)"
   ]
  },
  {
   "cell_type": "code",
   "execution_count": 46,
   "metadata": {},
   "outputs": [
    {
     "name": "stdout",
     "output_type": "stream",
     "text": [
      "{'Pos': 2479, 'Neg': 2521, 'TP': 2184, 'TN': 2164, 'FP': 357, 'FN': 295, 'Accuracy': 0.8696, 'Precision': 0.859504132231405, 'Recall': 0.8810004033884631, 'desc': 'svc_test'}\n"
     ]
    }
   ],
   "source": [
    "svc_test = BinaryClassificationPerformance(svc.predict(X_test), y_test, 'svc_test')\n",
    "svc_test.compute_measures()\n",
    "print(svc_test.performance_measures)"
   ]
  },
  {
   "cell_type": "code",
   "execution_count": 7,
   "metadata": {},
   "outputs": [
    {
     "name": "stdout",
     "output_type": "stream",
     "text": [
      "{'Pos': 10021, 'Neg': 9979, 'TP': 10021, 'TN': 9979, 'FP': 0, 'FN': 0, 'Accuracy': 1.0, 'Precision': 1.0, 'Recall': 1.0, 'desc': 'svc_train'}\n"
     ]
    }
   ],
   "source": [
    "from sklearn import svm\n",
    "svc = svm.LinearSVC(C=0.0005)\n",
    "svc.fit(X_train, y_train)\n",
    "\n",
    "svc_performance_train = BinaryClassificationPerformance(svc.predict(X_train), y_train, 'svc_train')\n",
    "svc_performance_train.compute_measures()\n",
    "print(svc_performance_train.performance_measures)"
   ]
  },
  {
   "cell_type": "code",
   "execution_count": 8,
   "metadata": {},
   "outputs": [
    {
     "name": "stdout",
     "output_type": "stream",
     "text": [
      "{'Pos': 2479, 'Neg': 2521, 'TP': 2167, 'TN': 2140, 'FP': 381, 'FN': 312, 'Accuracy': 0.8614, 'Precision': 0.8504709576138147, 'Recall': 0.8741427995159339, 'desc': 'svc_test'}\n"
     ]
    }
   ],
   "source": [
    "svc_test = BinaryClassificationPerformance(svc.predict(X_test), y_test, 'svc_test')\n",
    "svc_test.compute_measures()\n",
    "print(svc_test.performance_measures)"
   ]
  },
  {
   "cell_type": "code",
   "execution_count": 81,
   "metadata": {},
   "outputs": [
    {
     "name": "stdout",
     "output_type": "stream",
     "text": [
      "{'Pos': 10021, 'Neg': 9979, 'TP': 10021, 'TN': 9979, 'FP': 0, 'FN': 0, 'Accuracy': 1.0, 'Precision': 1.0, 'Recall': 1.0, 'desc': 'svc_train'}\n"
     ]
    }
   ],
   "source": [
    "from sklearn import svm\n",
    "svc = svm.LinearSVC(C=0.001)\n",
    "svc.fit(X_train, y_train)\n",
    "\n",
    "svc_performance_train = BinaryClassificationPerformance(svc.predict(X_train), y_train, 'svc_train')\n",
    "svc_performance_train.compute_measures()\n",
    "print(svc_performance_train.performance_measures)"
   ]
  },
  {
   "cell_type": "code",
   "execution_count": 82,
   "metadata": {},
   "outputs": [
    {
     "name": "stdout",
     "output_type": "stream",
     "text": [
      "{'Pos': 2479, 'Neg': 2521, 'TP': 2164, 'TN': 2136, 'FP': 385, 'FN': 315, 'Accuracy': 0.86, 'Precision': 0.8489603766182817, 'Recall': 0.872932634126664, 'desc': 'svc_test'}\n"
     ]
    }
   ],
   "source": [
    "svc_test = BinaryClassificationPerformance(svc.predict(X_test), y_test, 'svc_test')\n",
    "svc_test.compute_measures()\n",
    "print(svc_test.performance_measures)"
   ]
  },
  {
   "cell_type": "code",
   "execution_count": 83,
   "metadata": {},
   "outputs": [
    {
     "name": "stdout",
     "output_type": "stream",
     "text": [
      "{'Pos': 10021, 'Neg': 9979, 'TP': 10021, 'TN': 9979, 'FP': 0, 'FN': 0, 'Accuracy': 1.0, 'Precision': 1.0, 'Recall': 1.0, 'desc': 'svc_train'}\n"
     ]
    }
   ],
   "source": [
    "from sklearn import svm\n",
    "svc = svm.LinearSVC(C=0.01)\n",
    "svc.fit(X_train, y_train)\n",
    "\n",
    "svc_performance_train = BinaryClassificationPerformance(svc.predict(X_train), y_train, 'svc_train')\n",
    "svc_performance_train.compute_measures()\n",
    "print(svc_performance_train.performance_measures)"
   ]
  },
  {
   "cell_type": "code",
   "execution_count": 84,
   "metadata": {},
   "outputs": [
    {
     "name": "stdout",
     "output_type": "stream",
     "text": [
      "{'Pos': 2479, 'Neg': 2521, 'TP': 2157, 'TN': 2132, 'FP': 389, 'FN': 322, 'Accuracy': 0.8578, 'Precision': 0.8472113118617439, 'Recall': 0.8701089148850343, 'desc': 'svc_test'}\n"
     ]
    }
   ],
   "source": [
    "svc_test = BinaryClassificationPerformance(svc.predict(X_test), y_test, 'svc_test')\n",
    "svc_test.compute_measures()\n",
    "print(svc_test.performance_measures)"
   ]
  },
  {
   "cell_type": "code",
   "execution_count": 85,
   "metadata": {},
   "outputs": [
    {
     "name": "stdout",
     "output_type": "stream",
     "text": [
      "{'Pos': 10021, 'Neg': 9979, 'TP': 10021, 'TN': 9979, 'FP': 0, 'FN': 0, 'Accuracy': 1.0, 'Precision': 1.0, 'Recall': 1.0, 'desc': 'svc_train'}\n"
     ]
    }
   ],
   "source": [
    "from sklearn import svm\n",
    "svc = svm.LinearSVC(C=0.1)\n",
    "svc.fit(X_train, y_train)\n",
    "\n",
    "svc_performance_train = BinaryClassificationPerformance(svc.predict(X_train), y_train, 'svc_train')\n",
    "svc_performance_train.compute_measures()\n",
    "print(svc_performance_train.performance_measures)"
   ]
  },
  {
   "cell_type": "code",
   "execution_count": 86,
   "metadata": {},
   "outputs": [
    {
     "name": "stdout",
     "output_type": "stream",
     "text": [
      "{'Pos': 2479, 'Neg': 2521, 'TP': 2156, 'TN': 2134, 'FP': 387, 'FN': 323, 'Accuracy': 0.858, 'Precision': 0.8478175383405426, 'Recall': 0.8697055264219443, 'desc': 'svc_test'}\n"
     ]
    }
   ],
   "source": [
    "svc_test = BinaryClassificationPerformance(svc.predict(X_test), y_test, 'svc_test')\n",
    "svc_test.compute_measures()\n",
    "print(svc_test.performance_measures)"
   ]
  },
  {
   "cell_type": "code",
   "execution_count": 87,
   "metadata": {},
   "outputs": [
    {
     "name": "stdout",
     "output_type": "stream",
     "text": [
      "{'Pos': 10021, 'Neg': 9979, 'TP': 10021, 'TN': 9979, 'FP': 0, 'FN': 0, 'Accuracy': 1.0, 'Precision': 1.0, 'Recall': 1.0, 'desc': 'svc_train'}\n"
     ]
    }
   ],
   "source": [
    "from sklearn import svm\n",
    "svc = svm.LinearSVC(C=0.5)\n",
    "svc.fit(X_train, y_train)\n",
    "\n",
    "svc_performance_train = BinaryClassificationPerformance(svc.predict(X_train), y_train, 'svc_train')\n",
    "svc_performance_train.compute_measures()\n",
    "print(svc_performance_train.performance_measures)"
   ]
  },
  {
   "cell_type": "code",
   "execution_count": 88,
   "metadata": {},
   "outputs": [
    {
     "name": "stdout",
     "output_type": "stream",
     "text": [
      "{'Pos': 2479, 'Neg': 2521, 'TP': 2154, 'TN': 2134, 'FP': 387, 'FN': 325, 'Accuracy': 0.8576, 'Precision': 0.8476977567886659, 'Recall': 0.8688987494957644, 'desc': 'svc_test'}\n"
     ]
    }
   ],
   "source": [
    "svc_test = BinaryClassificationPerformance(svc.predict(X_test), y_test, 'svc_test')\n",
    "svc_test.compute_measures()\n",
    "print(svc_test.performance_measures)"
   ]
  },
  {
   "cell_type": "code",
   "execution_count": 89,
   "metadata": {},
   "outputs": [
    {
     "name": "stdout",
     "output_type": "stream",
     "text": [
      "{'Pos': 10021, 'Neg': 9979, 'TP': 10021, 'TN': 9979, 'FP': 0, 'FN': 0, 'Accuracy': 1.0, 'Precision': 1.0, 'Recall': 1.0, 'desc': 'svc_train'}\n"
     ]
    }
   ],
   "source": [
    "from sklearn import svm\n",
    "svc = svm.LinearSVC(C=1)\n",
    "svc.fit(X_train, y_train)\n",
    "\n",
    "svc_performance_train = BinaryClassificationPerformance(svc.predict(X_train), y_train, 'svc_train')\n",
    "svc_performance_train.compute_measures()\n",
    "print(svc_performance_train.performance_measures)"
   ]
  },
  {
   "cell_type": "code",
   "execution_count": 90,
   "metadata": {},
   "outputs": [
    {
     "name": "stdout",
     "output_type": "stream",
     "text": [
      "{'Pos': 2479, 'Neg': 2521, 'TP': 2154, 'TN': 2134, 'FP': 387, 'FN': 325, 'Accuracy': 0.8576, 'Precision': 0.8476977567886659, 'Recall': 0.8688987494957644, 'desc': 'svc_test'}\n"
     ]
    }
   ],
   "source": [
    "svc_test = BinaryClassificationPerformance(svc.predict(X_test), y_test, 'svc_test')\n",
    "svc_test.compute_measures()\n",
    "print(svc_test.performance_measures)"
   ]
  },
  {
   "cell_type": "code",
   "execution_count": 91,
   "metadata": {},
   "outputs": [
    {
     "name": "stdout",
     "output_type": "stream",
     "text": [
      "{'Pos': 10021, 'Neg': 9979, 'TP': 10021, 'TN': 9979, 'FP': 0, 'FN': 0, 'Accuracy': 1.0, 'Precision': 1.0, 'Recall': 1.0, 'desc': 'svc_train'}\n"
     ]
    }
   ],
   "source": [
    "from sklearn import svm\n",
    "svc = svm.LinearSVC(C=10)\n",
    "svc.fit(X_train, y_train)\n",
    "\n",
    "svc_performance_train = BinaryClassificationPerformance(svc.predict(X_train), y_train, 'svc_train')\n",
    "svc_performance_train.compute_measures()\n",
    "print(svc_performance_train.performance_measures)"
   ]
  },
  {
   "cell_type": "code",
   "execution_count": 92,
   "metadata": {},
   "outputs": [
    {
     "name": "stdout",
     "output_type": "stream",
     "text": [
      "{'Pos': 2479, 'Neg': 2521, 'TP': 2154, 'TN': 2134, 'FP': 387, 'FN': 325, 'Accuracy': 0.8576, 'Precision': 0.8476977567886659, 'Recall': 0.8688987494957644, 'desc': 'svc_test'}\n"
     ]
    }
   ],
   "source": [
    "svc_test = BinaryClassificationPerformance(svc.predict(X_test), y_test, 'svc_test')\n",
    "svc_test.compute_measures()\n",
    "print(svc_test.performance_measures)"
   ]
  },
  {
   "cell_type": "code",
   "execution_count": 93,
   "metadata": {},
   "outputs": [
    {
     "name": "stdout",
     "output_type": "stream",
     "text": [
      "{'Pos': 10021, 'Neg': 9979, 'TP': 10021, 'TN': 9979, 'FP': 0, 'FN': 0, 'Accuracy': 1.0, 'Precision': 1.0, 'Recall': 1.0, 'desc': 'svc_train'}\n"
     ]
    }
   ],
   "source": [
    "from sklearn import svm\n",
    "svc = svm.LinearSVC(C=100)\n",
    "svc.fit(X_train, y_train)\n",
    "\n",
    "svc_performance_train = BinaryClassificationPerformance(svc.predict(X_train), y_train, 'svc_train')\n",
    "svc_performance_train.compute_measures()\n",
    "print(svc_performance_train.performance_measures)"
   ]
  },
  {
   "cell_type": "code",
   "execution_count": 94,
   "metadata": {},
   "outputs": [
    {
     "name": "stdout",
     "output_type": "stream",
     "text": [
      "{'Pos': 2479, 'Neg': 2521, 'TP': 2154, 'TN': 2134, 'FP': 387, 'FN': 325, 'Accuracy': 0.8576, 'Precision': 0.8476977567886659, 'Recall': 0.8688987494957644, 'desc': 'svc_test'}\n"
     ]
    }
   ],
   "source": [
    "svc_test = BinaryClassificationPerformance(svc.predict(X_test), y_test, 'svc_test')\n",
    "svc_test.compute_measures()\n",
    "print(svc_test.performance_measures)"
   ]
  },
  {
   "cell_type": "code",
   "execution_count": null,
   "metadata": {},
   "outputs": [],
   "source": []
  }
 ],
 "metadata": {
  "kernelspec": {
   "display_name": "Python 3",
   "language": "python",
   "name": "python3"
  },
  "language_info": {
   "codemirror_mode": {
    "name": "ipython",
    "version": 3
   },
   "file_extension": ".py",
   "mimetype": "text/x-python",
   "name": "python",
   "nbconvert_exporter": "python",
   "pygments_lexer": "ipython3",
   "version": "3.8.3"
  }
 },
 "nbformat": 4,
 "nbformat_minor": 4
}
